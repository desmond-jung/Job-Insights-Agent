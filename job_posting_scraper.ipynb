{
 "cells": [
  {
   "cell_type": "code",
   "execution_count": null,
   "metadata": {},
   "outputs": [],
   "source": [
    "import requests\n",
    "from bs4 import BeautifulSoup\n",
    "import random\n",
    "import pandas as pd\n",
    "import re"
   ]
  },
  {
   "cell_type": "code",
   "execution_count": null,
   "metadata": {},
   "outputs": [],
   "source": [
    "# Title of job in search\n",
    "title = \"Data Scientist\"\n",
    "\n",
    "# Location\n",
    "location = \"Los Angeles County\""
   ]
  },
  {
   "cell_type": "code",
   "execution_count": null,
   "metadata": {},
   "outputs": [],
   "source": [
    "# link for list of job postings on the left on linkedin\n",
    "list_url = \"https://www.linkedin.com/jobs-guest/jobs/api/seeMoreJobPostings/search?keywords=data%2Bscientist&location=los%2Bangeles%2Bcounty&geoId=&trk=public_jobs_jobs-search-bar_search-submit&start=25\"\n",
    "\n",
    "response = requests.get(list_url)\n",
    "\n",
    "list_data = response.text\n",
    "list_soup = BeautifulSoup(list_data, \"html.parser\")\n",
    "page_jobs = list_soup.findAll(\"li\")"
   ]
  },
  {
   "cell_type": "code",
   "execution_count": null,
   "metadata": {},
   "outputs": [],
   "source": [
    "job_id_list = []\n",
    "\n",
    "for job in page_jobs:\n",
    "    # find job_ids\n",
    "    base_card_div = job.find(\"div\", {\"class\": \"base-card\"})\n",
    "    job_id = base_card_div.get(\"data-entity-urn\").split(\":\")[3]\n",
    "    job_id_list.append(job_id)\n",
    "    "
   ]
  },
  {
   "cell_type": "code",
   "execution_count": null,
   "metadata": {},
   "outputs": [],
   "source": [
    "job_list = []\n",
    "for job_id in job_id_list:\n",
    "    job_url = f\"https://www.linkedin.com/jobs-guest/jobs/api/jobPosting/{job_id}\"\n",
    "    job_response = requests.get(job_url)\n",
    "    job_soup = BeautifulSoup(job_response.text, \"html.parser\")\n",
    "\n",
    "    # Dictionary for each job posting\n",
    "    job_post = {}\n",
    "    \n",
    "    # company name\n",
    "    try:\n",
    "        job_post[\"company_name\"] = job_soup.find(\"a\",{\"class\": \"topcard__org-name-link topcard__flavor--black-link\"}).text.strip()\n",
    "    except:\n",
    "        job_post[\"company_name\"] = None\n",
    "    \n",
    "    # company location\n",
    "    try: \n",
    "        job_post[\"location\"] = job_soup.find(\"span\", {\"class\": \"topcard__flavor topcard__flavor--bullet\"}).text.strip()\n",
    "    except:\n",
    "        job_post[\"location\"] = None\n",
    "\n",
    "    # Salary\n",
    "    try:\n",
    "        job_post[\"salary\"] = job_soup.find(\"div\", {\"class\": \"salary compensation__salary\"}).text.strip()\n",
    "    \n",
    "    except AttributeError:\n",
    "        description = job_soup.find(\"div\", {\"class\": \"show-more-less-html__markup show-more-less-html__markup--clamp-after-5 relative overflow-hidden\"}).text\n",
    "        job_post[\"salary\"] = description\n",
    "        pattern = r\"\\$[\\d,]+(?:\\.\\d{2})?\\s?to\\s?\\$[\\d,]+(?:\\.\\d{2})?\"\n",
    "        salary_range = re.findall(pattern, description)\n",
    "        job_post[\"salary\"] = salary_range\n",
    "\n",
    "    # Description\n",
    "    \n",
    "\n",
    "    job_list.append(job_post)"
   ]
  },
  {
   "cell_type": "code",
   "execution_count": null,
   "metadata": {},
   "outputs": [],
   "source": [
    "job_list"
   ]
  },
  {
   "cell_type": "code",
   "execution_count": null,
   "metadata": {},
   "outputs": [],
   "source": [
    "test_url = \"https://www.linkedin.com/jobs-guest/jobs/api/jobPosting/4182723167\"\n",
    "test_response = requests.get(test_url)\n",
    "test_soup = BeautifulSoup(test_response.text, \"html.parser\")\n",
    "\n",
    "description = test_soup.find(\"div\", {\"class\": \"show-more-less-html__markup show-more-less-html__markup--clamp-after-5 relative overflow-hidden\"})"
   ]
  },
  {
   "cell_type": "code",
   "execution_count": null,
   "metadata": {},
   "outputs": [],
   "source": [
    "description.text"
   ]
  }
 ],
 "metadata": {
  "kernelspec": {
   "display_name": "Python 3",
   "language": "python",
   "name": "python3"
  },
  "language_info": {
   "name": "python",
   "version": "3.12.5"
  }
 },
 "nbformat": 4,
 "nbformat_minor": 2
}
